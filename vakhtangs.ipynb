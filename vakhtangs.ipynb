{
 "cells": [
  {
   "cell_type": "code",
   "execution_count": 1,
   "metadata": {},
   "outputs": [],
   "source": [
    "import polars as pl\n",
    "import requests\n",
    "from tqdm.notebook import tqdm\n",
    "from urllib.parse import urlparse\n",
    "\n",
    "sparql_url = \"https://query.wikidata.org/sparql\""
   ]
  },
  {
   "cell_type": "code",
   "execution_count": 2,
   "metadata": {},
   "outputs": [],
   "source": [
    "sparql_query = \"\"\"\n",
    "SELECT ?item ?itemLabel ?coord ?depicts ?depictsLabel ?dod ?image ?countryLabel WHERE {\n",
    "  # Q659396 is equestrian statue\n",
    "  {\n",
    "    SELECT DISTINCT ?item\n",
    "    WHERE {\n",
    "      { ?item wdt:P136 wd:Q659396 }\n",
    "      UNION\n",
    "      { ?item wdt:P31  wd:Q659396 }\n",
    "    }\n",
    "  }\n",
    "\n",
    "  # 2) Join the heavy bits after narrowing to one page of items\n",
    "  ?item wdt:P625 ?coord .\n",
    "  ?item wdt:P180 ?depicts .\n",
    "  FILTER NOT EXISTS { ?depicts wdt:P31 wd:Q726 }\n",
    "  ?depicts wdt:P570 ?dod .\n",
    "  OPTIONAL { ?item wdt:P17 ?country }\n",
    "  OPTIONAL { ?item wdt:P18 ?image }\n",
    "  \n",
    "  SERVICE wikibase:label {\n",
    "    bd:serviceParam wikibase:language \"[AUTO_LANGUAGE],en\".\n",
    "  }\n",
    "}\n",
    "\"\"\""
   ]
  },
  {
   "cell_type": "code",
   "execution_count": 3,
   "metadata": {},
   "outputs": [
    {
     "data": {
      "text/plain": [
       "{'item': {'type': 'uri', 'value': 'http://www.wikidata.org/entity/Q2183129'},\n",
       " 'depicts': {'type': 'uri', 'value': 'http://www.wikidata.org/entity/Q129987'},\n",
       " 'dod': {'datatype': 'http://www.w3.org/2001/XMLSchema#dateTime',\n",
       "  'type': 'literal',\n",
       "  'value': '1702-03-19T00:00:00Z'},\n",
       " 'coord': {'datatype': 'http://www.opengis.net/ont/geosparql#wktLiteral',\n",
       "  'type': 'literal',\n",
       "  'value': 'Point(4.776111 51.589722)'},\n",
       " 'image': {'type': 'uri',\n",
       "  'value': 'http://commons.wikimedia.org/wiki/Special:FilePath/Monument%20Willem%20III%2C%20Breda.jpg'},\n",
       " 'itemLabel': {'xml:lang': 'en',\n",
       "  'type': 'literal',\n",
       "  'value': 'Equestrian statue of William III'},\n",
       " 'depictsLabel': {'xml:lang': 'en',\n",
       "  'type': 'literal',\n",
       "  'value': 'William III of England'},\n",
       " 'countryLabel': {'xml:lang': 'en', 'type': 'literal', 'value': 'Netherlands'}}"
      ]
     },
     "execution_count": 3,
     "metadata": {},
     "output_type": "execute_result"
    }
   ],
   "source": [
    "headers = {\"Accept\": \"application/sparql-results+json\"}\n",
    "response = requests.get(sparql_url, params={\"query\": sparql_query}, headers=headers)\n",
    "rows = response.json()[\"results\"][\"bindings\"]\n",
    "rows[0]"
   ]
  },
  {
   "cell_type": "code",
   "execution_count": 4,
   "metadata": {},
   "outputs": [],
   "source": [
    "def resolve_commons_filepath(filepath_url: str, timeout: float = 10.0) -> str:\n",
    "    s = requests.Session()\n",
    "    r = s.head(\n",
    "        filepath_url,\n",
    "        allow_redirects=True,\n",
    "        timeout=timeout,\n",
    "        headers={\n",
    "            \"User-Agent\": \"Mozilla/5.0 (X11; Linux x86_64) AppleWebKit/537.36 (KHTML, like Gecko) Chrome/120.0.0.0 Safari/537.36\"\n",
    "        },\n",
    "    )\n",
    "    r.raise_for_status()\n",
    "    final_url = r.url\n",
    "    if \"upload.wikimedia.org\" not in urlparse(final_url).netloc:\n",
    "        r = s.get(filepath_url, allow_redirects=True, stream=True, timeout=timeout)\n",
    "        r.raise_for_status()\n",
    "        final_url = r.url\n",
    "        r.close()\n",
    "    if \"upload.wikimedia.org\" not in urlparse(final_url).netloc:\n",
    "        raise RuntimeError(\"Could not resolve to an upload.wikimedia.org URL\")\n",
    "    return final_url\n"
   ]
  },
  {
   "cell_type": "code",
   "execution_count": 5,
   "metadata": {},
   "outputs": [
    {
     "data": {
      "text/html": [
       "<div><style>\n",
       ".dataframe > thead > tr,\n",
       ".dataframe > tbody > tr {\n",
       "  text-align: right;\n",
       "  white-space: pre-wrap;\n",
       "}\n",
       "</style>\n",
       "<small>shape: (538, 9)</small><table border=\"1\" class=\"dataframe\"><thead><tr><th>qid</th><th>label</th><th>image</th><th>depicted_qid</th><th>depicted</th><th>dod</th><th>country</th><th>lat</th><th>lon</th></tr><tr><td>str</td><td>str</td><td>str</td><td>str</td><td>str</td><td>str</td><td>str</td><td>str</td><td>str</td></tr></thead><tbody><tr><td>&quot;Q2183129&quot;</td><td>&quot;Equestrian statue of William I…</td><td>&quot;https://upload.wikimedia.org/w…</td><td>&quot;Q129987&quot;</td><td>&quot;William III of England&quot;</td><td>&quot;1702-03-19T00:00:00Z&quot;</td><td>&quot;Netherlands&quot;</td><td>&quot;51.589722&quot;</td><td>&quot;4.776111&quot;</td></tr><tr><td>&quot;Q2437806&quot;</td><td>&quot;Monument to Giuseppe Garibaldi&quot;</td><td>&quot;https://upload.wikimedia.org/w…</td><td>&quot;Q539&quot;</td><td>&quot;Giuseppe Garibaldi&quot;</td><td>&quot;1882-06-02T00:00:00Z&quot;</td><td>&quot;Argentina&quot;</td><td>&quot;-34.581313917&quot;</td><td>&quot;-58.421086888&quot;</td></tr><tr><td>&quot;Q2484700&quot;</td><td>&quot;monument of Leopold II in Oste…</td><td>&quot;https://upload.wikimedia.org/w…</td><td>&quot;Q12967&quot;</td><td>&quot;Leopold II of Belgium&quot;</td><td>&quot;1909-12-17T00:00:00Z&quot;</td><td>&quot;Belgium&quot;</td><td>&quot;51.22727&quot;</td><td>&quot;2.90434&quot;</td></tr><tr><td>&quot;Q2484700&quot;</td><td>&quot;monument of Leopold II in Oste…</td><td>&quot;https://upload.wikimedia.org/w…</td><td>&quot;Q12967&quot;</td><td>&quot;Leopold II of Belgium&quot;</td><td>&quot;1909-12-17T00:00:00Z&quot;</td><td>&quot;Belgium&quot;</td><td>&quot;51.22727&quot;</td><td>&quot;2.90434&quot;</td></tr><tr><td>&quot;Q2511913&quot;</td><td>&quot;equestrian statue of Marshal M…</td><td>&quot;https://upload.wikimedia.org/w…</td><td>&quot;Q152306&quot;</td><td>&quot;Carl Gustaf Emil Mannerheim&quot;</td><td>&quot;1951-01-27T00:00:00Z&quot;</td><td>&quot;Finland&quot;</td><td>&quot;60.171555&quot;</td><td>&quot;24.936398&quot;</td></tr><tr><td>&hellip;</td><td>&hellip;</td><td>&hellip;</td><td>&hellip;</td><td>&hellip;</td><td>&hellip;</td><td>&hellip;</td><td>&hellip;</td><td>&hellip;</td></tr><tr><td>&quot;Q125809468&quot;</td><td>&quot;Monument to Umberto I di Savoi…</td><td>&quot;https://upload.wikimedia.org/w…</td><td>&quot;Q153688&quot;</td><td>&quot;Umberto I of Italy&quot;</td><td>&quot;1900-07-29T00:00:00Z&quot;</td><td>&quot;Italy&quot;</td><td>&quot;37.513299966&quot;</td><td>&quot;15.082806711&quot;</td></tr><tr><td>&quot;Q126963135&quot;</td><td>&quot;Monument to Ferdinando of Savo…</td><td>&quot;https://upload.wikimedia.org/w…</td><td>&quot;Q459441&quot;</td><td>&quot;Prince Ferdinand, Duke of Geno…</td><td>&quot;1855-02-10T00:00:00Z&quot;</td><td>&quot;Italy&quot;</td><td>&quot;45.068887411&quot;</td><td>&quot;7.677089794&quot;</td></tr><tr><td>&quot;Q132191679&quot;</td><td>&quot;equestrian statue of Viscount …</td><td>&quot;https://upload.wikimedia.org/w…</td><td>&quot;Q335994&quot;</td><td>&quot;Hugh Gough, 1st Viscount Gough&quot;</td><td>&quot;1869-03-02T00:00:00Z&quot;</td><td>&quot;United Kingdom&quot;</td><td>&quot;55.5262&quot;</td><td>&quot;-1.9117&quot;</td></tr><tr><td>&quot;Q133261457&quot;</td><td>&quot;Q133261457&quot;</td><td>&quot;https://upload.wikimedia.org/w…</td><td>&quot;Q1060796&quot;</td><td>&quot;John IV of Portugal&quot;</td><td>&quot;1656-11-06T00:00:00Z&quot;</td><td>&quot;Portugal&quot;</td><td>&quot;38.782581&quot;</td><td>&quot;-7.421233&quot;</td></tr><tr><td>&quot;Q133848914&quot;</td><td>&quot;Equestrian statue of Alexandro…</td><td>null</td><td>&quot;Q312046&quot;</td><td>&quot;Alexandros Papagos&quot;</td><td>&quot;1955-10-04T00:00:00Z&quot;</td><td>&quot;Greece&quot;</td><td>&quot;38.38953&quot;</td><td>&quot;23.49213&quot;</td></tr></tbody></table></div>"
      ],
      "text/plain": [
       "shape: (538, 9)\n",
       "┌───────────┬───────────┬───────────┬───────────┬───┬───────────┬───────────┬───────────┬──────────┐\n",
       "│ qid       ┆ label     ┆ image     ┆ depicted_ ┆ … ┆ dod       ┆ country   ┆ lat       ┆ lon      │\n",
       "│ ---       ┆ ---       ┆ ---       ┆ qid       ┆   ┆ ---       ┆ ---       ┆ ---       ┆ ---      │\n",
       "│ str       ┆ str       ┆ str       ┆ ---       ┆   ┆ str       ┆ str       ┆ str       ┆ str      │\n",
       "│           ┆           ┆           ┆ str       ┆   ┆           ┆           ┆           ┆          │\n",
       "╞═══════════╪═══════════╪═══════════╪═══════════╪═══╪═══════════╪═══════════╪═══════════╪══════════╡\n",
       "│ Q2183129  ┆ Equestria ┆ https://u ┆ Q129987   ┆ … ┆ 1702-03-1 ┆ Netherlan ┆ 51.589722 ┆ 4.776111 │\n",
       "│           ┆ n statue  ┆ pload.wik ┆           ┆   ┆ 9T00:00:0 ┆ ds        ┆           ┆          │\n",
       "│           ┆ of        ┆ imedia.or ┆           ┆   ┆ 0Z        ┆           ┆           ┆          │\n",
       "│           ┆ William   ┆ g/w…      ┆           ┆   ┆           ┆           ┆           ┆          │\n",
       "│           ┆ I…        ┆           ┆           ┆   ┆           ┆           ┆           ┆          │\n",
       "│ Q2437806  ┆ Monument  ┆ https://u ┆ Q539      ┆ … ┆ 1882-06-0 ┆ Argentina ┆ -34.58131 ┆ -58.4210 │\n",
       "│           ┆ to        ┆ pload.wik ┆           ┆   ┆ 2T00:00:0 ┆           ┆ 3917      ┆ 86888    │\n",
       "│           ┆ Giuseppe  ┆ imedia.or ┆           ┆   ┆ 0Z        ┆           ┆           ┆          │\n",
       "│           ┆ Garibaldi ┆ g/w…      ┆           ┆   ┆           ┆           ┆           ┆          │\n",
       "│ Q2484700  ┆ monument  ┆ https://u ┆ Q12967    ┆ … ┆ 1909-12-1 ┆ Belgium   ┆ 51.22727  ┆ 2.90434  │\n",
       "│           ┆ of        ┆ pload.wik ┆           ┆   ┆ 7T00:00:0 ┆           ┆           ┆          │\n",
       "│           ┆ Leopold   ┆ imedia.or ┆           ┆   ┆ 0Z        ┆           ┆           ┆          │\n",
       "│           ┆ II in     ┆ g/w…      ┆           ┆   ┆           ┆           ┆           ┆          │\n",
       "│           ┆ Oste…     ┆           ┆           ┆   ┆           ┆           ┆           ┆          │\n",
       "│ Q2484700  ┆ monument  ┆ https://u ┆ Q12967    ┆ … ┆ 1909-12-1 ┆ Belgium   ┆ 51.22727  ┆ 2.90434  │\n",
       "│           ┆ of        ┆ pload.wik ┆           ┆   ┆ 7T00:00:0 ┆           ┆           ┆          │\n",
       "│           ┆ Leopold   ┆ imedia.or ┆           ┆   ┆ 0Z        ┆           ┆           ┆          │\n",
       "│           ┆ II in     ┆ g/w…      ┆           ┆   ┆           ┆           ┆           ┆          │\n",
       "│           ┆ Oste…     ┆           ┆           ┆   ┆           ┆           ┆           ┆          │\n",
       "│ Q2511913  ┆ equestria ┆ https://u ┆ Q152306   ┆ … ┆ 1951-01-2 ┆ Finland   ┆ 60.171555 ┆ 24.93639 │\n",
       "│           ┆ n statue  ┆ pload.wik ┆           ┆   ┆ 7T00:00:0 ┆           ┆           ┆ 8        │\n",
       "│           ┆ of        ┆ imedia.or ┆           ┆   ┆ 0Z        ┆           ┆           ┆          │\n",
       "│           ┆ Marshal   ┆ g/w…      ┆           ┆   ┆           ┆           ┆           ┆          │\n",
       "│           ┆ M…        ┆           ┆           ┆   ┆           ┆           ┆           ┆          │\n",
       "│ …         ┆ …         ┆ …         ┆ …         ┆ … ┆ …         ┆ …         ┆ …         ┆ …        │\n",
       "│ Q12580946 ┆ Monument  ┆ https://u ┆ Q153688   ┆ … ┆ 1900-07-2 ┆ Italy     ┆ 37.513299 ┆ 15.08280 │\n",
       "│ 8         ┆ to        ┆ pload.wik ┆           ┆   ┆ 9T00:00:0 ┆           ┆ 966       ┆ 6711     │\n",
       "│           ┆ Umberto I ┆ imedia.or ┆           ┆   ┆ 0Z        ┆           ┆           ┆          │\n",
       "│           ┆ di Savoi… ┆ g/w…      ┆           ┆   ┆           ┆           ┆           ┆          │\n",
       "│ Q12696313 ┆ Monument  ┆ https://u ┆ Q459441   ┆ … ┆ 1855-02-1 ┆ Italy     ┆ 45.068887 ┆ 7.677089 │\n",
       "│ 5         ┆ to Ferdin ┆ pload.wik ┆           ┆   ┆ 0T00:00:0 ┆           ┆ 411       ┆ 794      │\n",
       "│           ┆ ando of   ┆ imedia.or ┆           ┆   ┆ 0Z        ┆           ┆           ┆          │\n",
       "│           ┆ Savo…     ┆ g/w…      ┆           ┆   ┆           ┆           ┆           ┆          │\n",
       "│ Q13219167 ┆ equestria ┆ https://u ┆ Q335994   ┆ … ┆ 1869-03-0 ┆ United    ┆ 55.5262   ┆ -1.9117  │\n",
       "│ 9         ┆ n statue  ┆ pload.wik ┆           ┆   ┆ 2T00:00:0 ┆ Kingdom   ┆           ┆          │\n",
       "│           ┆ of        ┆ imedia.or ┆           ┆   ┆ 0Z        ┆           ┆           ┆          │\n",
       "│           ┆ Viscount  ┆ g/w…      ┆           ┆   ┆           ┆           ┆           ┆          │\n",
       "│           ┆ …         ┆           ┆           ┆   ┆           ┆           ┆           ┆          │\n",
       "│ Q13326145 ┆ Q13326145 ┆ https://u ┆ Q1060796  ┆ … ┆ 1656-11-0 ┆ Portugal  ┆ 38.782581 ┆ -7.42123 │\n",
       "│ 7         ┆ 7         ┆ pload.wik ┆           ┆   ┆ 6T00:00:0 ┆           ┆           ┆ 3        │\n",
       "│           ┆           ┆ imedia.or ┆           ┆   ┆ 0Z        ┆           ┆           ┆          │\n",
       "│           ┆           ┆ g/w…      ┆           ┆   ┆           ┆           ┆           ┆          │\n",
       "│ Q13384891 ┆ Equestria ┆ null      ┆ Q312046   ┆ … ┆ 1955-10-0 ┆ Greece    ┆ 38.38953  ┆ 23.49213 │\n",
       "│ 4         ┆ n statue  ┆           ┆           ┆   ┆ 4T00:00:0 ┆           ┆           ┆          │\n",
       "│           ┆ of Alexan ┆           ┆           ┆   ┆ 0Z        ┆           ┆           ┆          │\n",
       "│           ┆ dro…      ┆           ┆           ┆   ┆           ┆           ┆           ┆          │\n",
       "└───────────┴───────────┴───────────┴───────────┴───┴───────────┴───────────┴───────────┴──────────┘"
      ]
     },
     "execution_count": 5,
     "metadata": {},
     "output_type": "execute_result"
    }
   ],
   "source": [
    "df = pl.DataFrame(rows)\n",
    "fixed = df.select(\n",
    "    qid=pl.col(\"item\").struct[\"value\"].str.split(\"/\").list[-1],\n",
    "    label=pl.col(\"itemLabel\").struct[\"value\"],\n",
    "    image=pl.col(\"image\")\n",
    "    .struct[\"value\"]\n",
    "    .map_elements(resolve_commons_filepath, return_dtype=pl.String),\n",
    "    depicted_qid=pl.col(\"depicts\").struct[\"value\"].str.split(\"/\").list[-1],\n",
    "    depicted=pl.col(\"depictsLabel\").struct[\"value\"],\n",
    "    dod=pl.col(\"dod\").struct[\"value\"],\n",
    "    country=pl.col(\"countryLabel\").struct[\"value\"],\n",
    "    lat=pl.col(\"coord\").struct[\"value\"].str.extract(r\" ([-\\d\\.]+)\\)\"),\n",
    "    lon=pl.col(\"coord\").struct[\"value\"].str.extract(r\"\\(([-\\d\\.]+) \"),\n",
    ").filter(pl.col(\"lat\").is_not_null(), pl.col(\"lon\").is_not_null())\n",
    "fixed"
   ]
  },
  {
   "cell_type": "code",
   "execution_count": 6,
   "metadata": {},
   "outputs": [],
   "source": [
    "def get_location_photon(loc: dict[str, str]) -> dict:\n",
    "    url = \"https://photon.komoot.io/reverse\"\n",
    "    params = {\n",
    "        \"lat\": loc[\"lat\"],\n",
    "        \"lon\": loc[\"lon\"],\n",
    "    }\n",
    "    response = requests.get(\n",
    "        url, params=params, timeout=5, headers={\"accept-language\": \"en-US,en;q=0.9\"}\n",
    "    )\n",
    "    for p in response.json()[\"features\"]:\n",
    "        if p.get(\"properties\", {}).get(\"country\"):\n",
    "            return {\n",
    "                k: v for k, v in p[\"properties\"].items() if k in [\"city\", \"country\"]\n",
    "            }\n",
    "    raise Exception(f\"No country found for {loc}\")"
   ]
  },
  {
   "cell_type": "code",
   "execution_count": 7,
   "metadata": {},
   "outputs": [
    {
     "data": {
      "application/vnd.jupyter.widget-view+json": {
       "model_id": "304f0f8ed08a4924b05aa3d674e0b9d0",
       "version_major": 2,
       "version_minor": 0
      },
      "text/plain": [
       "  0%|          | 0/538 [00:00<?, ?it/s]"
      ]
     },
     "metadata": {},
     "output_type": "display_data"
    }
   ],
   "source": [
    "d = {}\n",
    "for row in tqdm(fixed.iter_rows(named=True), total=len(fixed)):\n",
    "    d[(row[\"lat\"], row[\"lon\"])] = get_location_photon(row)"
   ]
  },
  {
   "cell_type": "code",
   "execution_count": 8,
   "metadata": {},
   "outputs": [
    {
     "data": {
      "text/html": [
       "<div><style>\n",
       ".dataframe > thead > tr,\n",
       ".dataframe > tbody > tr {\n",
       "  text-align: right;\n",
       "  white-space: pre-wrap;\n",
       "}\n",
       "</style>\n",
       "<small>shape: (5, 11)</small><table border=\"1\" class=\"dataframe\"><thead><tr><th>qid</th><th>label</th><th>image</th><th>depicted_qid</th><th>depicted</th><th>dod</th><th>country</th><th>lat</th><th>lon</th><th>photon_country</th><th>photon_city</th></tr><tr><td>str</td><td>str</td><td>str</td><td>str</td><td>str</td><td>str</td><td>str</td><td>str</td><td>str</td><td>str</td><td>str</td></tr></thead><tbody><tr><td>&quot;Q125802369&quot;</td><td>&quot;Statue of Imre Thököly (Kežmar…</td><td>&quot;https://upload.wikimedia.org/w…</td><td>&quot;Q357151&quot;</td><td>&quot;Imre Thököly&quot;</td><td>&quot;1705-09-13T00:00:00Z&quot;</td><td>&quot;Slovakia&quot;</td><td>&quot;49.13923&quot;</td><td>&quot;20.43316&quot;</td><td>&quot;Slovakia&quot;</td><td>&quot;Kežmarok&quot;</td></tr><tr><td>&quot;Q46999400&quot;</td><td>&quot;Robert E. Lee Monument&quot;</td><td>&quot;https://upload.wikimedia.org/w…</td><td>&quot;Q165557&quot;</td><td>&quot;Robert E. Lee&quot;</td><td>&quot;1870-10-12T00:00:00Z&quot;</td><td>&quot;United States&quot;</td><td>&quot;37.553844&quot;</td><td>&quot;-77.460109&quot;</td><td>&quot;United States&quot;</td><td>&quot;Richmond&quot;</td></tr><tr><td>&quot;Q3968677&quot;</td><td>&quot;El Caballito&quot;</td><td>&quot;https://upload.wikimedia.org/w…</td><td>&quot;Q183226&quot;</td><td>&quot;Charles IV of Spain&quot;</td><td>&quot;1819-01-20T00:00:00Z&quot;</td><td>&quot;Mexico&quot;</td><td>&quot;19.43605&quot;</td><td>&quot;-99.13948&quot;</td><td>&quot;Mexico&quot;</td><td>null</td></tr><tr><td>&quot;Q7631200&quot;</td><td>&quot;Subhas Chandra Bose statue&quot;</td><td>&quot;https://upload.wikimedia.org/w…</td><td>&quot;Q2153&quot;</td><td>&quot;Subhas Chandra Bose&quot;</td><td>&quot;1945-08-18T00:00:00Z&quot;</td><td>&quot;India&quot;</td><td>&quot;22.60179&quot;</td><td>&quot;88.37363&quot;</td><td>&quot;India&quot;</td><td>&quot;Kolkata&quot;</td></tr><tr><td>&quot;Q128059917&quot;</td><td>&quot;Q128059917&quot;</td><td>&quot;https://upload.wikimedia.org/w…</td><td>&quot;Q48438&quot;</td><td>&quot;Saint George&quot;</td><td>&quot;0303-04-24T00:00:00Z&quot;</td><td>&quot;Czech Republic&quot;</td><td>&quot;50.8632375&quot;</td><td>&quot;14.4819931&quot;</td><td>&quot;Czechia&quot;</td><td>&quot;Chřibská&quot;</td></tr></tbody></table></div>"
      ],
      "text/plain": [
       "shape: (5, 11)\n",
       "┌───────────┬───────────┬───────────┬───────────┬───┬───────────┬───────────┬───────────┬──────────┐\n",
       "│ qid       ┆ label     ┆ image     ┆ depicted_ ┆ … ┆ lat       ┆ lon       ┆ photon_co ┆ photon_c │\n",
       "│ ---       ┆ ---       ┆ ---       ┆ qid       ┆   ┆ ---       ┆ ---       ┆ untry     ┆ ity      │\n",
       "│ str       ┆ str       ┆ str       ┆ ---       ┆   ┆ str       ┆ str       ┆ ---       ┆ ---      │\n",
       "│           ┆           ┆           ┆ str       ┆   ┆           ┆           ┆ str       ┆ str      │\n",
       "╞═══════════╪═══════════╪═══════════╪═══════════╪═══╪═══════════╪═══════════╪═══════════╪══════════╡\n",
       "│ Q12580236 ┆ Statue of ┆ https://u ┆ Q357151   ┆ … ┆ 49.13923  ┆ 20.43316  ┆ Slovakia  ┆ Kežmarok │\n",
       "│ 9         ┆ Imre      ┆ pload.wik ┆           ┆   ┆           ┆           ┆           ┆          │\n",
       "│           ┆ Thököly   ┆ imedia.or ┆           ┆   ┆           ┆           ┆           ┆          │\n",
       "│           ┆ (Kežmar…  ┆ g/w…      ┆           ┆   ┆           ┆           ┆           ┆          │\n",
       "│ Q46999400 ┆ Robert E. ┆ https://u ┆ Q165557   ┆ … ┆ 37.553844 ┆ -77.46010 ┆ United    ┆ Richmond │\n",
       "│           ┆ Lee       ┆ pload.wik ┆           ┆   ┆           ┆ 9         ┆ States    ┆          │\n",
       "│           ┆ Monument  ┆ imedia.or ┆           ┆   ┆           ┆           ┆           ┆          │\n",
       "│           ┆           ┆ g/w…      ┆           ┆   ┆           ┆           ┆           ┆          │\n",
       "│ Q3968677  ┆ El        ┆ https://u ┆ Q183226   ┆ … ┆ 19.43605  ┆ -99.13948 ┆ Mexico    ┆ null     │\n",
       "│           ┆ Caballito ┆ pload.wik ┆           ┆   ┆           ┆           ┆           ┆          │\n",
       "│           ┆           ┆ imedia.or ┆           ┆   ┆           ┆           ┆           ┆          │\n",
       "│           ┆           ┆ g/w…      ┆           ┆   ┆           ┆           ┆           ┆          │\n",
       "│ Q7631200  ┆ Subhas    ┆ https://u ┆ Q2153     ┆ … ┆ 22.60179  ┆ 88.37363  ┆ India     ┆ Kolkata  │\n",
       "│           ┆ Chandra   ┆ pload.wik ┆           ┆   ┆           ┆           ┆           ┆          │\n",
       "│           ┆ Bose      ┆ imedia.or ┆           ┆   ┆           ┆           ┆           ┆          │\n",
       "│           ┆ statue    ┆ g/w…      ┆           ┆   ┆           ┆           ┆           ┆          │\n",
       "│ Q12805991 ┆ Q12805991 ┆ https://u ┆ Q48438    ┆ … ┆ 50.863237 ┆ 14.481993 ┆ Czechia   ┆ Chřibská │\n",
       "│ 7         ┆ 7         ┆ pload.wik ┆           ┆   ┆ 5         ┆ 1         ┆           ┆          │\n",
       "│           ┆           ┆ imedia.or ┆           ┆   ┆           ┆           ┆           ┆          │\n",
       "│           ┆           ┆ g/w…      ┆           ┆   ┆           ┆           ┆           ┆          │\n",
       "└───────────┴───────────┴───────────┴───────────┴───┴───────────┴───────────┴───────────┴──────────┘"
      ]
     },
     "execution_count": 8,
     "metadata": {},
     "output_type": "execute_result"
    }
   ],
   "source": [
    "fixed = (\n",
    "    fixed.unique(\"qid\")\n",
    "    .with_columns(\n",
    "        location=pl.struct([\"lat\", \"lon\"])\n",
    "        .map_elements(\n",
    "            lambda row: d.get((row[\"lat\"], row[\"lon\"])),\n",
    "            return_dtype=pl.Struct(\n",
    "                [pl.Field(\"city\", pl.Utf8), pl.Field(\"country\", pl.Utf8)]\n",
    "            ),\n",
    "        )\n",
    "        .name.prefix_fields(\"photon_\")\n",
    "    )\n",
    "    .unnest(\"location\")\n",
    ")\n",
    "fixed.head()"
   ]
  }
 ],
 "metadata": {
  "kernelspec": {
   "display_name": ".venv",
   "language": "python",
   "name": "python3"
  },
  "language_info": {
   "codemirror_mode": {
    "name": "ipython",
    "version": 3
   },
   "file_extension": ".py",
   "mimetype": "text/x-python",
   "name": "python",
   "nbconvert_exporter": "python",
   "pygments_lexer": "ipython3",
   "version": "3.12.3"
  }
 },
 "nbformat": 4,
 "nbformat_minor": 2
}
